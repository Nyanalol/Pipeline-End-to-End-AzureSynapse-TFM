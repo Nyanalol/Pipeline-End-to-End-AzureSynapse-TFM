{
 "cells": [
  {
   "cell_type": "markdown",
   "id": "d13483be-0a65-4ff9-a8cc-c552a8c3d465",
   "metadata": {},
   "source": [
    "### Envío de Datos y Solicitud de Predicciones a la API Flask"
   ]
  },
  {
   "cell_type": "code",
   "execution_count": 4,
   "id": "b347c2f8-3b78-426a-8047-b45e33d8c614",
   "metadata": {},
   "outputs": [
    {
     "name": "stdout",
     "output_type": "stream",
     "text": [
      "{'predictions': [[1.0], [1.0]]}\n"
     ]
    }
   ],
   "source": [
    "import requests\n",
    "import pandas as pd\n",
    "\n",
    "# Datos de ejemplo\n",
    "data = {\n",
    "    'Stock': [400, 600],\n",
    "    'Precio_Costo': [10.5, 12.0],\n",
    "    'Precio_Venta': [15.0, 18.0]\n",
    "}\n",
    "\n",
    "# Hacer la solicitud al servidor Flask\n",
    "response = requests.post(\"http://localhost:5003/predict\", json=data)\n",
    "\n",
    "# Mostrar la respuesta\n",
    "print(response.json())\n"
   ]
  }
 ],
 "metadata": {
  "kernelspec": {
   "display_name": "Python 3 (ipykernel)",
   "language": "python",
   "name": "python3"
  },
  "language_info": {
   "codemirror_mode": {
    "name": "ipython",
    "version": 3
   },
   "file_extension": ".py",
   "mimetype": "text/x-python",
   "name": "python",
   "nbconvert_exporter": "python",
   "pygments_lexer": "ipython3",
   "version": "3.12.3"
  }
 },
 "nbformat": 4,
 "nbformat_minor": 5
}
